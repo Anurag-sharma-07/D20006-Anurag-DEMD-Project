{
  "nbformat": 4,
  "nbformat_minor": 0,
  "metadata": {
    "colab": {
      "name": " D20006-Project-ICICI-STOCK-PRICE-PREDICTION-USING-Time-series.ipynb",
      "provenance": []
    },
    "kernelspec": {
      "name": "python3",
      "display_name": "Python 3"
    },
    "language_info": {
      "name": "python"
    }
  },
  "cells": [
    {
      "cell_type": "code",
      "metadata": {
        "colab": {
          "base_uri": "https://localhost:8080/",
          "height": 513
        },
        "id": "be8DnKejhNof",
        "outputId": "9610e51f-6061-450a-ca7a-029dd85658e8"
      },
      "source": [
        "! pip install pmdarima"
      ],
      "execution_count": 2,
      "outputs": [
        {
          "output_type": "stream",
          "text": [
            "Collecting pmdarima\n",
            "\u001b[?25l  Downloading https://files.pythonhosted.org/packages/f4/c2/2a94bce6bba1deac3c0b16dbb14f28de0b9035e3211919cae8448455aa65/pmdarima-1.8.2-cp37-cp37m-manylinux1_x86_64.whl (1.5MB)\n",
            "\u001b[K     |████████████████████████████████| 1.5MB 7.6MB/s \n",
            "\u001b[?25hRequirement already satisfied: Cython!=0.29.18,>=0.29 in /usr/local/lib/python3.7/dist-packages (from pmdarima) (0.29.23)\n",
            "Collecting statsmodels!=0.12.0,>=0.11\n",
            "\u001b[?25l  Downloading https://files.pythonhosted.org/packages/da/69/8eef30a6237c54f3c0b524140e2975f4b1eea3489b45eb3339574fc8acee/statsmodels-0.12.2-cp37-cp37m-manylinux1_x86_64.whl (9.5MB)\n",
            "\u001b[K     |████████████████████████████████| 9.5MB 16.4MB/s \n",
            "\u001b[?25hRequirement already satisfied: scipy>=1.3.2 in /usr/local/lib/python3.7/dist-packages (from pmdarima) (1.4.1)\n",
            "Requirement already satisfied: setuptools!=50.0.0,>=38.6.0 in /usr/local/lib/python3.7/dist-packages (from pmdarima) (56.1.0)\n",
            "Requirement already satisfied: numpy~=1.19.0 in /usr/local/lib/python3.7/dist-packages (from pmdarima) (1.19.5)\n",
            "Requirement already satisfied: joblib>=0.11 in /usr/local/lib/python3.7/dist-packages (from pmdarima) (1.0.1)\n",
            "Requirement already satisfied: urllib3 in /usr/local/lib/python3.7/dist-packages (from pmdarima) (1.24.3)\n",
            "Requirement already satisfied: scikit-learn>=0.22 in /usr/local/lib/python3.7/dist-packages (from pmdarima) (0.22.2.post1)\n",
            "Requirement already satisfied: pandas>=0.19 in /usr/local/lib/python3.7/dist-packages (from pmdarima) (1.1.5)\n",
            "Requirement already satisfied: patsy>=0.5 in /usr/local/lib/python3.7/dist-packages (from statsmodels!=0.12.0,>=0.11->pmdarima) (0.5.1)\n",
            "Requirement already satisfied: pytz>=2017.2 in /usr/local/lib/python3.7/dist-packages (from pandas>=0.19->pmdarima) (2018.9)\n",
            "Requirement already satisfied: python-dateutil>=2.7.3 in /usr/local/lib/python3.7/dist-packages (from pandas>=0.19->pmdarima) (2.8.1)\n",
            "Requirement already satisfied: six in /usr/local/lib/python3.7/dist-packages (from patsy>=0.5->statsmodels!=0.12.0,>=0.11->pmdarima) (1.15.0)\n",
            "Installing collected packages: statsmodels, pmdarima\n",
            "  Found existing installation: statsmodels 0.10.2\n",
            "    Uninstalling statsmodels-0.10.2:\n",
            "      Successfully uninstalled statsmodels-0.10.2\n",
            "Successfully installed pmdarima-1.8.2 statsmodels-0.12.2\n"
          ],
          "name": "stdout"
        },
        {
          "output_type": "display_data",
          "data": {
            "application/vnd.colab-display-data+json": {
              "pip_warning": {
                "packages": [
                  "statsmodels"
                ]
              }
            }
          },
          "metadata": {
            "tags": []
          }
        }
      ]
    },
    {
      "cell_type": "code",
      "metadata": {
        "id": "4UPDbnbHhJ3P"
      },
      "source": [
        "import os\n",
        "import warnings\n",
        "warnings.filterwarnings('ignore')\n",
        "from pylab import rcParams\n",
        "rcParams['figure.figsize'] = 10, 6\n",
        "from statsmodels.tsa.stattools import adfuller\n",
        "from statsmodels.tsa.seasonal import seasonal_decompose\n",
        "from statsmodels.tsa.arima_model import ARIMA\n",
        "from pmdarima.arima import auto_arima\n",
        "from sklearn.metrics import mean_squared_error, mean_absolute_error\n",
        "import math\n",
        "import numpy as np\n",
        "#from nsepy import get_history\n",
        "from datetime import date\n",
        "import matplotlib.pyplot as plt\n",
        "import seaborn as sns\n",
        "import pandas as pd"
      ],
      "execution_count": 1,
      "outputs": []
    },
    {
      "cell_type": "code",
      "metadata": {
        "id": "FD8bgRjWhNAd"
      },
      "source": [
        "df = pd.read_csv('ICICI-STOCK-PRICE.csv')"
      ],
      "execution_count": 2,
      "outputs": []
    },
    {
      "cell_type": "code",
      "metadata": {
        "colab": {
          "base_uri": "https://localhost:8080/",
          "height": 408
        },
        "id": "1CIJg_x-hn23",
        "outputId": "f3b1f62e-005e-42fd-d1e6-844bb0c50db3"
      },
      "source": [
        "df.head()"
      ],
      "execution_count": 3,
      "outputs": [
        {
          "output_type": "execute_result",
          "data": {
            "text/html": [
              "<div>\n",
              "<style scoped>\n",
              "    .dataframe tbody tr th:only-of-type {\n",
              "        vertical-align: middle;\n",
              "    }\n",
              "\n",
              "    .dataframe tbody tr th {\n",
              "        vertical-align: top;\n",
              "    }\n",
              "\n",
              "    .dataframe thead th {\n",
              "        text-align: right;\n",
              "    }\n",
              "</style>\n",
              "<table border=\"1\" class=\"dataframe\">\n",
              "  <thead>\n",
              "    <tr style=\"text-align: right;\">\n",
              "      <th></th>\n",
              "      <th>Date</th>\n",
              "      <th>Open Price</th>\n",
              "      <th>High Price</th>\n",
              "      <th>Low Price</th>\n",
              "      <th>Close Price</th>\n",
              "      <th>WAP</th>\n",
              "      <th>No.of Shares</th>\n",
              "      <th>No. of Trades</th>\n",
              "      <th>Total Turnover (Rs.)</th>\n",
              "      <th>Deliverable Quantity</th>\n",
              "      <th>% Deli. Qty to Traded Qty</th>\n",
              "      <th>Spread High-Low</th>\n",
              "      <th>Spread Close-Open</th>\n",
              "    </tr>\n",
              "  </thead>\n",
              "  <tbody>\n",
              "    <tr>\n",
              "      <th>0</th>\n",
              "      <td>05 May 2020</td>\n",
              "      <td>348.00</td>\n",
              "      <td>348.30</td>\n",
              "      <td>329.65</td>\n",
              "      <td>330.85</td>\n",
              "      <td>339.344547</td>\n",
              "      <td>2240054</td>\n",
              "      <td>26060</td>\n",
              "      <td>760150109</td>\n",
              "      <td>1039435</td>\n",
              "      <td>46.40</td>\n",
              "      <td>18.65</td>\n",
              "      <td>-17.15</td>\n",
              "    </tr>\n",
              "    <tr>\n",
              "      <th>1</th>\n",
              "      <td>06 May 2020</td>\n",
              "      <td>330.00</td>\n",
              "      <td>345.40</td>\n",
              "      <td>325.30</td>\n",
              "      <td>341.40</td>\n",
              "      <td>338.507886</td>\n",
              "      <td>1305155</td>\n",
              "      <td>20080</td>\n",
              "      <td>441805260</td>\n",
              "      <td>201539</td>\n",
              "      <td>15.44</td>\n",
              "      <td>20.10</td>\n",
              "      <td>11.40</td>\n",
              "    </tr>\n",
              "    <tr>\n",
              "      <th>2</th>\n",
              "      <td>07 May 2020</td>\n",
              "      <td>337.95</td>\n",
              "      <td>342.85</td>\n",
              "      <td>334.10</td>\n",
              "      <td>336.75</td>\n",
              "      <td>338.334641</td>\n",
              "      <td>742760</td>\n",
              "      <td>10625</td>\n",
              "      <td>251301438</td>\n",
              "      <td>132263</td>\n",
              "      <td>17.81</td>\n",
              "      <td>8.75</td>\n",
              "      <td>-1.20</td>\n",
              "    </tr>\n",
              "    <tr>\n",
              "      <th>3</th>\n",
              "      <td>08 May 2020</td>\n",
              "      <td>344.00</td>\n",
              "      <td>352.50</td>\n",
              "      <td>333.75</td>\n",
              "      <td>337.75</td>\n",
              "      <td>346.449948</td>\n",
              "      <td>1558394</td>\n",
              "      <td>18566</td>\n",
              "      <td>539905520</td>\n",
              "      <td>593687</td>\n",
              "      <td>38.10</td>\n",
              "      <td>18.75</td>\n",
              "      <td>-6.25</td>\n",
              "    </tr>\n",
              "    <tr>\n",
              "      <th>4</th>\n",
              "      <td>11 May 2020</td>\n",
              "      <td>344.90</td>\n",
              "      <td>344.90</td>\n",
              "      <td>318.15</td>\n",
              "      <td>320.10</td>\n",
              "      <td>328.428786</td>\n",
              "      <td>3216480</td>\n",
              "      <td>47120</td>\n",
              "      <td>1056384623</td>\n",
              "      <td>1129432</td>\n",
              "      <td>35.11</td>\n",
              "      <td>26.75</td>\n",
              "      <td>-24.80</td>\n",
              "    </tr>\n",
              "  </tbody>\n",
              "</table>\n",
              "</div>"
            ],
            "text/plain": [
              "          Date  Open Price  ...  Spread High-Low  Spread Close-Open\n",
              "0  05 May 2020      348.00  ...            18.65             -17.15\n",
              "1  06 May 2020      330.00  ...            20.10              11.40\n",
              "2  07 May 2020      337.95  ...             8.75              -1.20\n",
              "3  08 May 2020      344.00  ...            18.75              -6.25\n",
              "4  11 May 2020      344.90  ...            26.75             -24.80\n",
              "\n",
              "[5 rows x 13 columns]"
            ]
          },
          "metadata": {
            "tags": []
          },
          "execution_count": 3
        }
      ]
    },
    {
      "cell_type": "code",
      "metadata": {
        "colab": {
          "base_uri": "https://localhost:8080/"
        },
        "id": "hBvPDm1UhpNp",
        "outputId": "a75b80f0-a82a-4733-c6e5-e19f07b27c19"
      },
      "source": [
        "df.info()"
      ],
      "execution_count": 4,
      "outputs": [
        {
          "output_type": "stream",
          "text": [
            "<class 'pandas.core.frame.DataFrame'>\n",
            "RangeIndex: 252 entries, 0 to 251\n",
            "Data columns (total 13 columns):\n",
            " #   Column                     Non-Null Count  Dtype  \n",
            "---  ------                     --------------  -----  \n",
            " 0   Date                       252 non-null    object \n",
            " 1   Open Price                 252 non-null    float64\n",
            " 2   High Price                 252 non-null    float64\n",
            " 3   Low Price                  252 non-null    float64\n",
            " 4   Close Price                252 non-null    float64\n",
            " 5   WAP                        252 non-null    float64\n",
            " 6   No.of Shares               252 non-null    int64  \n",
            " 7   No. of Trades              252 non-null    int64  \n",
            " 8   Total Turnover (Rs.)       252 non-null    int64  \n",
            " 9   Deliverable Quantity       252 non-null    int64  \n",
            " 10  % Deli. Qty to Traded Qty  252 non-null    float64\n",
            " 11  Spread High-Low            252 non-null    float64\n",
            " 12  Spread Close-Open          252 non-null    float64\n",
            "dtypes: float64(8), int64(4), object(1)\n",
            "memory usage: 25.7+ KB\n"
          ],
          "name": "stdout"
        }
      ]
    },
    {
      "cell_type": "code",
      "metadata": {
        "colab": {
          "base_uri": "https://localhost:8080/"
        },
        "id": "1ZK_k2jimMx5",
        "outputId": "89e303f2-8967-4c90-e79e-4e21a054f6de"
      },
      "source": [
        "df.shape"
      ],
      "execution_count": null,
      "outputs": [
        {
          "output_type": "execute_result",
          "data": {
            "text/plain": [
              "(252, 13)"
            ]
          },
          "metadata": {
            "tags": []
          },
          "execution_count": 6
        }
      ]
    },
    {
      "cell_type": "code",
      "metadata": {
        "id": "Si0EtZ0khtGo"
      },
      "source": [
        "from datetime import datetime"
      ],
      "execution_count": 5,
      "outputs": []
    },
    {
      "cell_type": "code",
      "metadata": {
        "id": "jEzYIRdyJDTE"
      },
      "source": [
        "from datetime import timedelta"
      ],
      "execution_count": 54,
      "outputs": []
    },
    {
      "cell_type": "code",
      "metadata": {
        "id": "IZ2YQXfzmZxj"
      },
      "source": [
        "icici_stock_close = df[['Date','Close Price']]"
      ],
      "execution_count": 6,
      "outputs": []
    },
    {
      "cell_type": "code",
      "metadata": {
        "colab": {
          "base_uri": "https://localhost:8080/",
          "height": 204
        },
        "id": "rLa2zf2qmeo7",
        "outputId": "e5ab2e7c-2a43-4012-d726-bbee9a938532"
      },
      "source": [
        "icici_stock_close .head()"
      ],
      "execution_count": 7,
      "outputs": [
        {
          "output_type": "execute_result",
          "data": {
            "text/html": [
              "<div>\n",
              "<style scoped>\n",
              "    .dataframe tbody tr th:only-of-type {\n",
              "        vertical-align: middle;\n",
              "    }\n",
              "\n",
              "    .dataframe tbody tr th {\n",
              "        vertical-align: top;\n",
              "    }\n",
              "\n",
              "    .dataframe thead th {\n",
              "        text-align: right;\n",
              "    }\n",
              "</style>\n",
              "<table border=\"1\" class=\"dataframe\">\n",
              "  <thead>\n",
              "    <tr style=\"text-align: right;\">\n",
              "      <th></th>\n",
              "      <th>Date</th>\n",
              "      <th>Close Price</th>\n",
              "    </tr>\n",
              "  </thead>\n",
              "  <tbody>\n",
              "    <tr>\n",
              "      <th>0</th>\n",
              "      <td>05 May 2020</td>\n",
              "      <td>330.85</td>\n",
              "    </tr>\n",
              "    <tr>\n",
              "      <th>1</th>\n",
              "      <td>06 May 2020</td>\n",
              "      <td>341.40</td>\n",
              "    </tr>\n",
              "    <tr>\n",
              "      <th>2</th>\n",
              "      <td>07 May 2020</td>\n",
              "      <td>336.75</td>\n",
              "    </tr>\n",
              "    <tr>\n",
              "      <th>3</th>\n",
              "      <td>08 May 2020</td>\n",
              "      <td>337.75</td>\n",
              "    </tr>\n",
              "    <tr>\n",
              "      <th>4</th>\n",
              "      <td>11 May 2020</td>\n",
              "      <td>320.10</td>\n",
              "    </tr>\n",
              "  </tbody>\n",
              "</table>\n",
              "</div>"
            ],
            "text/plain": [
              "          Date  Close Price\n",
              "0  05 May 2020       330.85\n",
              "1  06 May 2020       341.40\n",
              "2  07 May 2020       336.75\n",
              "3  08 May 2020       337.75\n",
              "4  11 May 2020       320.10"
            ]
          },
          "metadata": {
            "tags": []
          },
          "execution_count": 7
        }
      ]
    },
    {
      "cell_type": "code",
      "metadata": {
        "id": "ZzFOKHOxhzev"
      },
      "source": [
        "icici_stock_close['Date'] = pd.to_datetime(icici_stock_close['Date'])\n",
        "icici_stock_close.set_index('Date',inplace=True)"
      ],
      "execution_count": 8,
      "outputs": []
    },
    {
      "cell_type": "code",
      "metadata": {
        "colab": {
          "base_uri": "https://localhost:8080/",
          "height": 404
        },
        "id": "ooOsGTqWiGou",
        "outputId": "e7073028-2655-4c76-98ce-74b1a235b815"
      },
      "source": [
        "plt.figure(figsize=(10,6))\n",
        "plt.grid(True)\n",
        "plt.xlabel('Date')\n",
        "plt.ylabel('Close Price')\n",
        "plt.plot(icici_stock_close['Close Price'])\n",
        "plt.title('ICICI stock closing price')\n",
        "plt.show()"
      ],
      "execution_count": 9,
      "outputs": [
        {
          "output_type": "display_data",
          "data": {
            "image/png": "[encoded data removed]",
            "text/plain": [
              "<Figure size 720x432 with 1 Axes>"
            ]
          },
          "metadata": {
            "tags": [],
            "needs_background": "light"
          }
        }
      ]
    },
    {
      "cell_type": "code",
      "metadata": {
        "id": "tN41UPvXkKFQ"
      },
      "source": [
        "import statsmodels.api as sm"
      ],
      "execution_count": null,
      "outputs": []
    },
    {
      "cell_type": "code",
      "metadata": {
        "id": "k4umCOVojQo9"
      },
      "source": [
        "from statsmodels.tsa.stattools import adfuller\n",
        "\n",
        "def adf_test(series,title=''):\n",
        "    \"\"\"\n",
        "    Pass in a time series and an optional title, returns an ADF report\n",
        "    \"\"\"\n",
        "    print(f'Augmented Dickey-Fuller Test: {title}')\n",
        "    result = adfuller(series.dropna(),autolag='AIC') # .dropna() handles differenced data\n",
        "    \n",
        "    labels = ['ADF test statistic','p-value','# lags used','# observations']\n",
        "    out = pd.Series(result[0:4],index=labels)\n",
        "\n",
        "    for key,val in result[4].items():\n",
        "        out[f'critical value ({key})']=val\n",
        "        \n",
        "    print(out.to_string())          # .to_string() removes the line \"dtype: float64\"\n",
        "    \n",
        "    if result[1] <= 0.05:\n",
        "        print(\"Strong evidence against the null hypothesis\")\n",
        "        print(\"Reject the null hypothesis\")\n",
        "        print(\"Data is stationary\")\n",
        "    else:\n",
        "        print(\"Weak evidence against the null hypothesis\")\n",
        "        print(\"Fail to reject the null hypothesis\")\n",
        "        print(\"Data is non-stationary\")"
      ],
      "execution_count": null,
      "outputs": []
    },
    {
      "cell_type": "code",
      "metadata": {
        "colab": {
          "base_uri": "https://localhost:8080/"
        },
        "id": "MAV7PO8Bm0co",
        "outputId": "fd00734d-6b81-44ed-8ea1-05ea9a74252e"
      },
      "source": [
        "adf_test(icici_stock_close,'ICICI-stock-close-price')"
      ],
      "execution_count": null,
      "outputs": [
        {
          "output_type": "stream",
          "text": [
            "Augmented Dickey-Fuller Test: ICICI-stock-close-price\n",
            "ADF test statistic       -0.735413\n",
            "p-value                   0.837362\n",
            "# lags used               0.000000\n",
            "# observations          251.000000\n",
            "critical value (1%)      -3.456674\n",
            "critical value (5%)      -2.873125\n",
            "critical value (10%)     -2.572944\n",
            "Weak evidence against the null hypothesis\n",
            "Fail to reject the null hypothesis\n",
            "Data is non-stationary\n"
          ],
          "name": "stdout"
        }
      ]
    },
    {
      "cell_type": "code",
      "metadata": {
        "colab": {
          "base_uri": "https://localhost:8080/",
          "height": 402
        },
        "id": "mr7SWUnMm4wC",
        "outputId": "8cbe63ef-226e-47be-ce65-3638f2ee2243"
      },
      "source": [
        "auto_arima(icici_stock_close,seasonal=False).summary()"
      ],
      "execution_count": null,
      "outputs": [
        {
          "output_type": "execute_result",
          "data": {
            "text/html": [
              "<table class=\"simpletable\">\n",
              "<caption>SARIMAX Results</caption>\n",
              "<tr>\n",
              "  <th>Dep. Variable:</th>           <td>y</td>        <th>  No. Observations:  </th>    <td>252</td>  \n",
              "</tr>\n",
              "<tr>\n",
              "  <th>Model:</th>           <td>SARIMAX(0, 1, 0)</td> <th>  Log Likelihood     </th> <td>-970.278</td>\n",
              "</tr>\n",
              "<tr>\n",
              "  <th>Date:</th>            <td>Thu, 13 May 2021</td> <th>  AIC                </th> <td>1944.557</td>\n",
              "</tr>\n",
              "<tr>\n",
              "  <th>Time:</th>                <td>12:02:50</td>     <th>  BIC                </th> <td>1951.608</td>\n",
              "</tr>\n",
              "<tr>\n",
              "  <th>Sample:</th>                  <td>0</td>        <th>  HQIC               </th> <td>1947.394</td>\n",
              "</tr>\n",
              "<tr>\n",
              "  <th></th>                      <td> - 252</td>      <th>                     </th>     <td> </td>   \n",
              "</tr>\n",
              "<tr>\n",
              "  <th>Covariance Type:</th>        <td>opg</td>       <th>                     </th>     <td> </td>   \n",
              "</tr>\n",
              "</table>\n",
              "<table class=\"simpletable\">\n",
              "<tr>\n",
              "      <td></td>         <th>coef</th>     <th>std err</th>      <th>z</th>      <th>P>|z|</th>  <th>[0.025</th>    <th>0.975]</th>  \n",
              "</tr>\n",
              "<tr>\n",
              "  <th>intercept</th> <td>    1.0829</td> <td>    0.750</td> <td>    1.444</td> <td> 0.149</td> <td>   -0.387</td> <td>    2.552</td>\n",
              "</tr>\n",
              "<tr>\n",
              "  <th>sigma2</th>    <td>  133.4098</td> <td>    7.350</td> <td>   18.150</td> <td> 0.000</td> <td>  119.003</td> <td>  147.816</td>\n",
              "</tr>\n",
              "</table>\n",
              "<table class=\"simpletable\">\n",
              "<tr>\n",
              "  <th>Ljung-Box (L1) (Q):</th>     <td>0.02</td> <th>  Jarque-Bera (JB):  </th> <td>144.70</td>\n",
              "</tr>\n",
              "<tr>\n",
              "  <th>Prob(Q):</th>                <td>0.88</td> <th>  Prob(JB):          </th>  <td>0.00</td> \n",
              "</tr>\n",
              "<tr>\n",
              "  <th>Heteroskedasticity (H):</th> <td>2.35</td> <th>  Skew:              </th>  <td>0.55</td> \n",
              "</tr>\n",
              "<tr>\n",
              "  <th>Prob(H) (two-sided):</th>    <td>0.00</td> <th>  Kurtosis:          </th>  <td>6.55</td> \n",
              "</tr>\n",
              "</table><br/><br/>Warnings:<br/>[1] Covariance matrix calculated using the outer product of gradients (complex-step)."
            ],
            "text/plain": [
              "<class 'statsmodels.iolib.summary.Summary'>\n",
              "\"\"\"\n",
              "                               SARIMAX Results                                \n",
              "==============================================================================\n",
              "Dep. Variable:                      y   No. Observations:                  252\n",
              "Model:               SARIMAX(0, 1, 0)   Log Likelihood                -970.278\n",
              "Date:                Thu, 13 May 2021   AIC                           1944.557\n",
              "Time:                        12:02:50   BIC                           1951.608\n",
              "Sample:                             0   HQIC                          1947.394\n",
              "                                - 252                                         \n",
              "Covariance Type:                  opg                                         \n",
              "==============================================================================\n",
              "                 coef    std err          z      P>|z|      [0.025      0.975]\n",
              "------------------------------------------------------------------------------\n",
              "intercept      1.0829      0.750      1.444      0.149      -0.387       2.552\n",
              "sigma2       133.4098      7.350     18.150      0.000     119.003     147.816\n",
              "===================================================================================\n",
              "Ljung-Box (L1) (Q):                   0.02   Jarque-Bera (JB):               144.70\n",
              "Prob(Q):                              0.88   Prob(JB):                         0.00\n",
              "Heteroskedasticity (H):               2.35   Skew:                             0.55\n",
              "Prob(H) (two-sided):                  0.00   Kurtosis:                         6.55\n",
              "===================================================================================\n",
              "\n",
              "Warnings:\n",
              "[1] Covariance matrix calculated using the outer product of gradients (complex-step).\n",
              "\"\"\""
            ]
          },
          "metadata": {
            "tags": []
          },
          "execution_count": 15
        }
      ]
    },
    {
      "cell_type": "code",
      "metadata": {
        "id": "vjrpiCoFm8q4"
      },
      "source": [
        "from statsmodels.tsa.statespace.tools import diff"
      ],
      "execution_count": null,
      "outputs": []
    },
    {
      "cell_type": "code",
      "metadata": {
        "id": "Qc_CI-u4m_vw"
      },
      "source": [
        "icici_stock_close['close_price First Difference'] = diff(icici_stock_close,k_diff=1)"
      ],
      "execution_count": null,
      "outputs": []
    },
    {
      "cell_type": "code",
      "metadata": {
        "colab": {
          "base_uri": "https://localhost:8080/"
        },
        "id": "OKRSsJdmnCnK",
        "outputId": "c60c6d74-308e-41c2-c4c6-bd7d4d831692"
      },
      "source": [
        "\n",
        "# Equivalent to:\n",
        "#df['Inventories First Difference'] = df['Inventories'] - df['Inventories'].shift(1)\n",
        "adf_test(icici_stock_close['close_price First Difference'] ,'Real Manufacturing and Trade Inventories')"
      ],
      "execution_count": null,
      "outputs": [
        {
          "output_type": "stream",
          "text": [
            "Augmented Dickey-Fuller Test: Real Manufacturing and Trade Inventories\n",
            "ADF test statistic     -1.051906e+01\n",
            "p-value                 9.790498e-19\n",
            "# lags used             2.000000e+00\n",
            "# observations          2.480000e+02\n",
            "critical value (1%)    -3.456996e+00\n",
            "critical value (5%)    -2.873266e+00\n",
            "critical value (10%)   -2.573019e+00\n",
            "Strong evidence against the null hypothesis\n",
            "Reject the null hypothesis\n",
            "Data is stationary\n"
          ],
          "name": "stdout"
        }
      ]
    },
    {
      "cell_type": "markdown",
      "metadata": {
        "id": "xYQ1CJNzsGb5"
      },
      "source": [
        "we could see that first order differencing was enough to make data stationary"
      ]
    },
    {
      "cell_type": "code",
      "metadata": {
        "colab": {
          "base_uri": "https://localhost:8080/"
        },
        "id": "DdLJzcHRnEtY",
        "outputId": "a9ef65e9-2653-4bc7-abec-bb4af31d2c8a"
      },
      "source": [
        "icici_stock_close.shape"
      ],
      "execution_count": 10,
      "outputs": [
        {
          "output_type": "execute_result",
          "data": {
            "text/plain": [
              "(252, 1)"
            ]
          },
          "metadata": {
            "tags": []
          },
          "execution_count": 10
        }
      ]
    },
    {
      "cell_type": "code",
      "metadata": {
        "id": "9XbKWS7bnQBw"
      },
      "source": [
        "train1 = icici_stock_close[:232]"
      ],
      "execution_count": 16,
      "outputs": []
    },
    {
      "cell_type": "code",
      "metadata": {
        "colab": {
          "base_uri": "https://localhost:8080/"
        },
        "id": "wrGC7XWnn6Cp",
        "outputId": "d231e2ca-48fa-444b-f723-9cf15823fe72"
      },
      "source": [
        "len(train1)"
      ],
      "execution_count": 17,
      "outputs": [
        {
          "output_type": "execute_result",
          "data": {
            "text/plain": [
              "232"
            ]
          },
          "metadata": {
            "tags": []
          },
          "execution_count": 17
        }
      ]
    },
    {
      "cell_type": "code",
      "metadata": {
        "id": "cxUekcnpna_g"
      },
      "source": [
        "test1= icici_stock_close[232:]"
      ],
      "execution_count": 18,
      "outputs": []
    },
    {
      "cell_type": "code",
      "metadata": {
        "colab": {
          "base_uri": "https://localhost:8080/"
        },
        "id": "_YJMbu5PoFY5",
        "outputId": "595c8610-f6b8-45ed-8f5b-2b03881717e4"
      },
      "source": [
        "len(test1)"
      ],
      "execution_count": 19,
      "outputs": [
        {
          "output_type": "execute_result",
          "data": {
            "text/plain": [
              "20"
            ]
          },
          "metadata": {
            "tags": []
          },
          "execution_count": 19
        }
      ]
    },
    {
      "cell_type": "code",
      "metadata": {
        "colab": {
          "base_uri": "https://localhost:8080/",
          "height": 483
        },
        "id": "mF17o4opo1ki",
        "outputId": "bc13c22a-b1cf-4c1e-fe28-7f939587f272"
      },
      "source": [
        "plt.figure(figsize=(10,8))\n",
        "plt.plot(train1, label= 'Train')\n",
        "plt.plot(test1 , label='Test')\n",
        "plt.legend(loc ='Left corner')\n",
        "plt.show()"
      ],
      "execution_count": 107,
      "outputs": [
        {
          "output_type": "display_data",
          "data": {
            "image/png": "[encoded data removed]",
            "text/plain": [
              "<Figure size 720x576 with 1 Axes>"
            ]
          },
          "metadata": {
            "tags": [],
            "needs_background": "light"
          }
        }
      ]
    },
    {
      "cell_type": "code",
      "metadata": {
        "colab": {
          "base_uri": "https://localhost:8080/"
        },
        "id": "X4mLrfFepIlh",
        "outputId": "c9b1f747-395c-4fa6-bb61-019f17d583cd"
      },
      "source": [
        "arima_model = auto_arima(train1,start_p=0,d=1,start_q=0,\n",
        "                         max_p=1,max_d=1, max_q=1 ,\n",
        "                        start_P=0,D=1,start_Q=0,m=12, \n",
        "                         seasonal=True,error_action='warn', trace=True,\n",
        "                         suppress_warnings=True, stepwise=True, \n",
        "                         random_state=50)"
      ],
      "execution_count": 108,
      "outputs": [
        {
          "output_type": "stream",
          "text": [
            "Performing stepwise search to minimize aic\n",
            " ARIMA(0,1,0)(0,1,0)[12]             : AIC=1836.011, Time=0.03 sec\n",
            " ARIMA(1,1,0)(1,1,0)[12]             : AIC=1774.948, Time=0.17 sec\n",
            " ARIMA(0,1,1)(0,1,1)[12]             : AIC=inf, Time=0.59 sec\n",
            " ARIMA(1,1,0)(0,1,0)[12]             : AIC=1837.298, Time=0.05 sec\n",
            " ARIMA(1,1,0)(2,1,0)[12]             : AIC=1761.967, Time=0.41 sec\n",
            " ARIMA(1,1,0)(2,1,1)[12]             : AIC=1729.712, Time=2.96 sec\n",
            " ARIMA(1,1,0)(1,1,1)[12]             : AIC=1727.712, Time=0.79 sec\n",
            " ARIMA(1,1,0)(0,1,1)[12]             : AIC=inf, Time=0.51 sec\n",
            " ARIMA(1,1,0)(1,1,2)[12]             : AIC=inf, Time=2.05 sec\n",
            " ARIMA(1,1,0)(0,1,2)[12]             : AIC=1727.710, Time=1.04 sec\n",
            " ARIMA(0,1,0)(0,1,2)[12]             : AIC=1725.713, Time=0.74 sec\n",
            " ARIMA(0,1,0)(0,1,1)[12]             : AIC=inf, Time=0.21 sec\n",
            " ARIMA(0,1,0)(1,1,2)[12]             : AIC=1726.967, Time=1.58 sec\n",
            " ARIMA(0,1,0)(1,1,1)[12]             : AIC=1725.716, Time=0.41 sec\n",
            " ARIMA(0,1,1)(0,1,2)[12]             : AIC=1727.710, Time=1.33 sec\n",
            " ARIMA(1,1,1)(0,1,2)[12]             : AIC=1728.902, Time=2.65 sec\n",
            " ARIMA(0,1,0)(0,1,2)[12] intercept   : AIC=1727.712, Time=0.88 sec\n",
            "\n",
            "Best model:  ARIMA(0,1,0)(0,1,2)[12]          \n",
            "Total fit time: 16.429 seconds\n"
          ],
          "name": "stdout"
        }
      ]
    },
    {
      "cell_type": "code",
      "metadata": {
        "id": "M1sLS0h2AUiK"
      },
      "source": [
        "ARIMA = arima_model.fit(icici_stock_close)"
      ],
      "execution_count": 114,
      "outputs": []
    },
    {
      "cell_type": "code",
      "metadata": {
        "colab": {
          "base_uri": "https://localhost:8080/"
        },
        "id": "XUq-1sWsT8fu",
        "outputId": "8a7d543b-9206-409a-cf0c-cbb34c16aeeb"
      },
      "source": [
        "dates_f = pd.date_range(start='2021-05-05', end='2021-05-20')\n",
        "dates_f"
      ],
      "execution_count": 110,
      "outputs": [
        {
          "output_type": "execute_result",
          "data": {
            "text/plain": [
              "DatetimeIndex(['2021-05-05', '2021-05-06', '2021-05-07', '2021-05-08',\n",
              "               '2021-05-09', '2021-05-10', '2021-05-11', '2021-05-12',\n",
              "               '2021-05-13', '2021-05-14', '2021-05-15', '2021-05-16',\n",
              "               '2021-05-17', '2021-05-18', '2021-05-19', '2021-05-20'],\n",
              "              dtype='datetime64[ns]', freq='D')"
            ]
          },
          "metadata": {
            "tags": []
          },
          "execution_count": 110
        }
      ]
    },
    {
      "cell_type": "code",
      "metadata": {
        "id": "79Rf01qJUEfq"
      },
      "source": [
        "values = np.random.random(len(dates_f))"
      ],
      "execution_count": 111,
      "outputs": []
    },
    {
      "cell_type": "code",
      "metadata": {
        "id": "LOPA059qLf3r"
      },
      "source": [
        "test_df= pd.DataFrame({'Prediction of stock privce': values}, index=dates_f)"
      ],
      "execution_count": 88,
      "outputs": []
    },
    {
      "cell_type": "code",
      "metadata": {
        "colab": {
          "base_uri": "https://localhost:8080/"
        },
        "id": "VThthag0UKt-",
        "outputId": "57e41987-9153-45f0-f1e8-566807159771"
      },
      "source": [
        "forecast = ARIMA.predict(n_periods=len(dates_f),typ='levels')\n",
        "forecast"
      ],
      "execution_count": 115,
      "outputs": [
        {
          "output_type": "execute_result",
          "data": {
            "text/plain": [
              "array([602.90672361, 600.61763992, 605.94212856, 601.59115149,\n",
              "       598.15837404, 598.90527482, 604.38890623, 608.50498137,\n",
              "       604.24992735, 609.1096077 , 611.17702654, 611.91369833,\n",
              "       611.77218546, 609.55288911, 615.82263048, 611.10028031])"
            ]
          },
          "metadata": {
            "tags": []
          },
          "execution_count": 115
        }
      ]
    },
    {
      "cell_type": "code",
      "metadata": {
        "id": "TeF37zpHA-0O"
      },
      "source": [
        "forecast = pd.DataFrame(forecast, index = dates_f,columns=['Prediction of stock privce'])"
      ],
      "execution_count": 116,
      "outputs": []
    },
    {
      "cell_type": "code",
      "metadata": {
        "colab": {
          "base_uri": "https://localhost:8080/",
          "height": 483
        },
        "id": "QSgxsHbjBQKc",
        "outputId": "439c636c-6a52-465a-a999-9bb8b83dc2ce"
      },
      "source": [
        "plt.figure(figsize=(10,8))\n",
        "plt.plot(train1, label='Train_Data')\n",
        "\n",
        "plt.plot(test1, label='Test_Data')\n",
        "\n",
        "plt.plot(forecast, label='Forecasting')\n",
        "plt.legend(loc ='Left corner')\n",
        "plt.show()"
      ],
      "execution_count": 117,
      "outputs": [
        {
          "output_type": "display_data",
          "data": {
            "image/png": "[encoded data removed]",
            "text/plain": [
              "<Figure size 720x576 with 1 Axes>"
            ]
          },
          "metadata": {
            "tags": [],
            "needs_background": "light"
          }
        }
      ]
    },
    {
      "cell_type": "code",
      "metadata": {
        "colab": {
          "base_uri": "https://localhost:8080/",
          "height": 483
        },
        "id": "1nliKwLEO7eF",
        "outputId": "e2e56d27-e140-4446-f4ba-aebc7848bd66"
      },
      "source": [
        "plt.figure(figsize=(10,8))\n",
        "plt.plot(icici_stock_close, label= 'Data')\n",
        "plt.plot(forecast, label='Forecasting')\n",
        "plt.legend(loc ='Left corner')\n",
        "plt.show()"
      ],
      "execution_count": 118,
      "outputs": [
        {
          "output_type": "display_data",
          "data": {
            "image/png": "[encoded data removed]",
            "text/plain": [
              "<Figure size 720x576 with 1 Axes>"
            ]
          },
          "metadata": {
            "tags": [],
            "needs_background": "light"
          }
        }
      ]
    },
    {
      "cell_type": "code",
      "metadata": {
        "id": "-eV62H1hmMHh"
      },
      "source": [
        "# create a pickle file to save the model\n",
        "import pickle\n",
        "pickle.dump(ARIMA, open(\"ARIMA-Model-TSF.pkl\", \"wb\"))"
      ],
      "execution_count": 119,
      "outputs": []
    },
    {
      "cell_type": "code",
      "metadata": {
        "colab": {
          "base_uri": "https://localhost:8080/"
        },
        "id": "RvwGab1Mn0pR",
        "outputId": "d3297bca-bc87-4168-f926-90f147f6bb58"
      },
      "source": [
        "!ls"
      ],
      "execution_count": 120,
      "outputs": [
        {
          "output_type": "stream",
          "text": [
            "ARIMA-Model-TSF.pkl  ICICI-STOCK-PRICE.csv  sample_data\n"
          ],
          "name": "stdout"
        }
      ]
    },
    {
      "cell_type": "code",
      "metadata": {
        "id": "3mjwJDs3oK9G"
      },
      "source": [
        "ARIMA_Model = pickle.load(open(\"ARIMA-Model-TSF.pkl\", \"rb\"))"
      ],
      "execution_count": 121,
      "outputs": []
    },
    {
      "cell_type": "code",
      "metadata": {
        "id": "H9cxk0avs8gD"
      },
      "source": [
        "pred_frcst1 = ARIMA_Model.predict(n_periods=len(dates_f), typ='levels')\n"
      ],
      "execution_count": 123,
      "outputs": []
    },
    {
      "cell_type": "code",
      "metadata": {
        "id": "L5yTpGCWWt7i"
      },
      "source": [
        "forecast1 = pd.DataFrame(pred_frcst1, index = dates_f,columns=['Prediction of stock privce'])"
      ],
      "execution_count": 124,
      "outputs": []
    },
    {
      "cell_type": "code",
      "metadata": {
        "colab": {
          "base_uri": "https://localhost:8080/",
          "height": 483
        },
        "id": "V34M4gNXXDcg",
        "outputId": "0e200ad4-b2d5-49ae-e2aa-be05da2ae975"
      },
      "source": [
        "plt.figure(figsize=(10,8))\n",
        "plt.plot(icici_stock_close, label= 'Data')\n",
        "plt.plot(forecast1, label='Forecasting')\n",
        "plt.legend(loc ='Left corner')\n",
        "plt.show()"
      ],
      "execution_count": 126,
      "outputs": [
        {
          "output_type": "display_data",
          "data": {
            "image/png": "[encoded data removed]",
            "text/plain": [
              "<Figure size 720x576 with 1 Axes>"
            ]
          },
          "metadata": {
            "tags": [],
            "needs_background": "light"
          }
        }
      ]
    }
  ]
}